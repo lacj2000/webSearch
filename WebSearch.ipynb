{
  "nbformat": 4,
  "nbformat_minor": 0,
  "metadata": {
    "colab": {
      "name": "WebSearch.ipynb",
      "provenance": [],
      "collapsed_sections": [],
      "toc_visible": true
    },
    "kernelspec": {
      "name": "python3",
      "display_name": "Python 3"
    }
  },
  "cells": [
    {
      "cell_type": "code",
      "metadata": {
        "id": "vC7d0pKneNgz",
        "colab_type": "code",
        "outputId": "50e9595b-a6f6-4d66-e0fe-582a92c6fa1c",
        "colab": {
          "base_uri": "https://localhost:8080/",
          "height": 35
        }
      },
      "source": [
        "!python --version"
      ],
      "execution_count": 1,
      "outputs": [
        {
          "output_type": "stream",
          "text": [
            "Python 3.6.9\n"
          ],
          "name": "stdout"
        }
      ]
    },
    {
      "cell_type": "code",
      "metadata": {
        "id": "wvy-oBog7ICC",
        "colab_type": "code",
        "outputId": "ee391850-5a77-465f-d39c-87ace93cb679",
        "colab": {
          "base_uri": "https://localhost:8080/",
          "height": 366
        }
      },
      "source": [
        "# installing requirements\n",
        "!pip install beautifulsoup4\n",
        "!pip install bs4\n",
        "!pip install requests\n",
        "!pip install requests-cache\n",
        "!pip install pandas"
      ],
      "execution_count": 2,
      "outputs": [
        {
          "output_type": "stream",
          "text": [
            "Requirement already satisfied: beautifulsoup4 in /usr/local/lib/python3.6/dist-packages (4.6.3)\n",
            "Requirement already satisfied: bs4 in /usr/local/lib/python3.6/dist-packages (0.0.1)\n",
            "Requirement already satisfied: beautifulsoup4 in /usr/local/lib/python3.6/dist-packages (from bs4) (4.6.3)\n",
            "Requirement already satisfied: requests in /usr/local/lib/python3.6/dist-packages (2.21.0)\n",
            "Requirement already satisfied: idna<2.9,>=2.5 in /usr/local/lib/python3.6/dist-packages (from requests) (2.8)\n",
            "Requirement already satisfied: chardet<3.1.0,>=3.0.2 in /usr/local/lib/python3.6/dist-packages (from requests) (3.0.4)\n",
            "Requirement already satisfied: certifi>=2017.4.17 in /usr/local/lib/python3.6/dist-packages (from requests) (2019.11.28)\n",
            "Requirement already satisfied: urllib3<1.25,>=1.21.1 in /usr/local/lib/python3.6/dist-packages (from requests) (1.24.3)\n",
            "Requirement already satisfied: requests-cache in /usr/local/lib/python3.6/dist-packages (0.5.2)\n",
            "Requirement already satisfied: requests>=1.1.0 in /usr/local/lib/python3.6/dist-packages (from requests-cache) (2.21.0)\n",
            "Requirement already satisfied: chardet<3.1.0,>=3.0.2 in /usr/local/lib/python3.6/dist-packages (from requests>=1.1.0->requests-cache) (3.0.4)\n",
            "Requirement already satisfied: idna<2.9,>=2.5 in /usr/local/lib/python3.6/dist-packages (from requests>=1.1.0->requests-cache) (2.8)\n",
            "Requirement already satisfied: certifi>=2017.4.17 in /usr/local/lib/python3.6/dist-packages (from requests>=1.1.0->requests-cache) (2019.11.28)\n",
            "Requirement already satisfied: urllib3<1.25,>=1.21.1 in /usr/local/lib/python3.6/dist-packages (from requests>=1.1.0->requests-cache) (1.24.3)\n",
            "Requirement already satisfied: pandas in /usr/local/lib/python3.6/dist-packages (0.25.3)\n",
            "Requirement already satisfied: pytz>=2017.2 in /usr/local/lib/python3.6/dist-packages (from pandas) (2018.9)\n",
            "Requirement already satisfied: numpy>=1.13.3 in /usr/local/lib/python3.6/dist-packages (from pandas) (1.17.5)\n",
            "Requirement already satisfied: python-dateutil>=2.6.1 in /usr/local/lib/python3.6/dist-packages (from pandas) (2.6.1)\n",
            "Requirement already satisfied: six>=1.5 in /usr/local/lib/python3.6/dist-packages (from python-dateutil>=2.6.1->pandas) (1.12.0)\n"
          ],
          "name": "stdout"
        }
      ]
    },
    {
      "cell_type": "code",
      "metadata": {
        "id": "Po7-Z85a5OmY",
        "colab_type": "code",
        "colab": {}
      },
      "source": [
        "#import's dependencies\n",
        "import pandas as pd\n",
        "import requests\n",
        "import re\n",
        "import requests_cache\n",
        "import sys\n",
        "from bs4 import BeautifulSoup"
      ],
      "execution_count": 0,
      "outputs": []
    },
    {
      "cell_type": "code",
      "metadata": {
        "id": "nYpXqHCn9mrH",
        "colab_type": "code",
        "colab": {}
      },
      "source": [
        "# install cache\n",
        "requests_cache.install_cache('dataCache')\n",
        "# set recursion limite\n",
        "sys.setrecursionlimit(1000000)"
      ],
      "execution_count": 0,
      "outputs": []
    },
    {
      "cell_type": "code",
      "metadata": {
        "id": "NzHXKM-9_fKY",
        "colab_type": "code",
        "colab": {}
      },
      "source": [
        "# get uri, adjusting uri\n",
        "def get_uri(msg):\n",
        "  return add_https(input(msg))\n",
        "\n",
        "def add_https(uri):\n",
        "  if(uri[0:4]!=\"http\"):\n",
        "    uri = \"https://\"+uri\n",
        "  return uri"
      ],
      "execution_count": 0,
      "outputs": []
    },
    {
      "cell_type": "code",
      "metadata": {
        "id": "zZYLycuCfC9q",
        "colab_type": "code",
        "colab": {}
      },
      "source": [
        "# settings \n",
        "fetched_links = set()\n",
        "restricted_links = set()\n",
        "good_codes = set() \n",
        "good_codes.update(list(range(100, 399, 1)))\n",
        "keyword = ''\n",
        "object_word = {\n",
        "    'text':[], \n",
        "    'link': [],\n",
        "    'score':[],\n",
        "}\n",
        "\n",
        "def clear():\n",
        "  fetched_links.clear()\n",
        "  restricted_links.clear() \n",
        "  globals()['object_word']['link'].clear()\n",
        "  globals()['object_word']['score'].clear()\n",
        "  globals()['object_word']['text'].clear() \n",
        "\n"
      ],
      "execution_count": 0,
      "outputs": []
    },
    {
      "cell_type": "code",
      "metadata": {
        "id": "fmkvKk0e2wSp",
        "colab_type": "code",
        "colab": {}
      },
      "source": [
        "# handle links\n",
        "def handle_links(page, depth, uri):\n",
        "  for a in page.find_all('a')[0:30:1]:\n",
        "    link = a.get('href')\n",
        "    if link is None:\n",
        "        restricted_links.add(link)\n",
        "    else:\n",
        "      if link[0:4] == 'http':\n",
        "        search(link, keyword, depth-1)\n",
        "      else:\n",
        "        restricted_links.add(link)\n",
        "\n",
        "# handle text\n",
        "def handle_text(page):\n",
        "    regex_words = re.compile('[a-zA-ZÀ-ú]+')\n",
        "    regex_split = re.compile('\\s+')\n",
        "\n",
        "    line_list = regex_split.split(page.get_text())\n",
        "       \n",
        "    words = {}\n",
        "\n",
        "    for line in line_list:\n",
        "      wordRE = regex_words.match(line)\n",
        "      if wordRE is not None:\n",
        "        word = wordRE.group().lower()\n",
        "        if word in words.keys():\n",
        "          words[word] += 1;\n",
        "        else:\n",
        "          words[word] = 1;\n",
        "    return words\n",
        "\n",
        "# get phrase\n",
        "def get_phrase(beautiful_page):\n",
        "  wordkey =  globals()['keyword']\n",
        "  caractere = ('.'*20)+ wordkey + ('.'*20)\n",
        "  phrase = re.findall(caractere, beautiful_page.get_text(), re.IGNORECASE) \n",
        "  return phrase[0] if phrase else wordkey "
      ],
      "execution_count": 0,
      "outputs": []
    },
    {
      "cell_type": "code",
      "metadata": {
        "id": "yvhgpIqmxN6v",
        "colab_type": "code",
        "colab": {}
      },
      "source": [
        "# get texts and adjusting links and tag's \n",
        "def handle_page(page, depth, uri):\n",
        "  beautiful_page = BeautifulSoup(page.text, \"html5lib\")\n",
        "  # handle links\n",
        "  handle_links(beautiful_page, depth, uri)\n",
        "  # handle text\n",
        "  words = handle_text(beautiful_page)\n",
        "  percent = percent_calculator(words, keyword)\n",
        "  phrase = get_phrase(beautiful_page)\n",
        "  # adding uri in fetched 'list'\n",
        "  globals()['object_word']['link'].append(uri)\n",
        "  globals()['object_word']['score'].append(percent)\n",
        "  globals()['object_word']['text'].append(phrase) \n",
        "  fetched_links.add(uri)\n",
        "\n",
        "def percent_calculator(words, keyword):    \n",
        "    if keyword not in words.keys():\n",
        "      return 0\n",
        "    else:\n",
        "      number = 0\n",
        "      for key in words.keys():\n",
        "        number += words[key]\n",
        "      \n",
        "      return words[keyword]/ number\n"
      ],
      "execution_count": 0,
      "outputs": []
    },
    {
      "cell_type": "code",
      "metadata": {
        "id": "9tbtYVIUghw0",
        "colab_type": "code",
        "colab": {}
      },
      "source": [
        "# search function\n",
        "\n",
        "def search(uri, keyword, depth=0):\n",
        "  if depth >= 0: \n",
        "    # verifica se o link não está na 'lista' de restritos\n",
        "    if uri not in restricted_links:\n",
        "      # verifica se o link não está na 'lista' de visitados\n",
        "      if uri not in fetched_links:\n",
        "        response = requests.get(uri, allow_redirects=False)\n",
        "        status_code = response.status_code\n",
        "        print(\"[NEW VISIT]:\",uri,\"-\",status_code)\n",
        "        if status_code in good_codes:\n",
        "          #handle http\n",
        "          handle_page(response, depth, uri)\n",
        "        else:\n",
        "          restricted_links.add(uri)\n",
        "      else:\n",
        "        print(\"[URI HAS BEEN VISITED]:\",uri)\n",
        "        return\n",
        "    else:\n",
        "      print(\"[URI HAS BEEN VISITED - SOMETHING UNEXPECTED WAS DETECTED]:\", uri)\n",
        "      return \n"
      ],
      "execution_count": 0,
      "outputs": []
    },
    {
      "cell_type": "code",
      "metadata": {
        "id": "YSBP3xpn52t1",
        "colab_type": "code",
        "colab": {}
      },
      "source": [
        "# create dt\n",
        "def dt_create(object_word):\n",
        "  # print(object_word)\n",
        "  return pd.DataFrame(object_word)\n"
      ],
      "execution_count": 0,
      "outputs": []
    },
    {
      "cell_type": "code",
      "metadata": {
        "id": "laKpJD6e6e3Y",
        "colab_type": "code",
        "colab": {}
      },
      "source": [
        "def list_links():\n",
        "  # print('----- fetched links --------')\n",
        "  df = dt_create(globals()['object_word'])\n",
        "  return df  \n"
      ],
      "execution_count": 0,
      "outputs": []
    },
    {
      "cell_type": "code",
      "metadata": {
        "id": "LQJgd47hcmEF",
        "colab_type": "code",
        "outputId": "1c8ad481-10eb-41e3-8b8c-b37766d22ffc",
        "colab": {
          "base_uri": "https://localhost:8080/",
          "height": 1000
        }
      },
      "source": [
        "# xiaomi  www.mi.com/br/\n",
        "# python www.python.org\n",
        "# coronavírus https://g1.globo.com/bemestar/coronavirus/noticia/2020/03/12/ultimas-noticias-de-coronavirus-de-12-de-marco.ghtml\n",
        "# pão https://pt.wikipedia.org/wiki/P%C3%A3o\n",
        "#main\n",
        "def main():\n",
        "  clear()\n",
        "  global keyword\n",
        "  keyword = input(\"Digite a palavra buscada: \")\n",
        "  uri = get_uri(\"digite o link de busca inicial: \")\n",
        "  depth = int(input(\"profundidade da busca: \"))\n",
        "  try:\n",
        "    search(uri, keyword, depth)\n",
        "    global df\n",
        "  except NameError:\n",
        "    print(NameError)\n",
        "    df = list_links()\n",
        "  df = list_links()\n",
        "\n",
        "\n",
        "if __name__ == '__main__':\n",
        "  main()"
      ],
      "execution_count": 0,
      "outputs": [
        {
          "output_type": "stream",
          "text": [
            "Digite a palavra buscada: python\n",
            "digite o link de busca inicial: www.python.org\n",
            "profundidade da busca: 3\n",
            "[NEW VISIT]: https://www.python.org - 200\n",
            "[NEW VISIT]: https://docs.python.org - 302\n",
            "[NEW VISIT]: https://pypi.python.org/ - 301\n",
            "[NEW VISIT]: https://www.facebook.com/pythonlang?fref=ts - 200\n",
            "[NEW VISIT]: https://www.facebook.com/ - 200\n",
            "[NEW VISIT]: https://www.facebook.com/ - 200\n",
            "[NEW VISIT]: https://www.facebook.com/recover/initiate?lwv=110&ars=royal_blue_bar - 302\n",
            "[NEW VISIT]: https://es-la.facebook.com/ - 200\n",
            "[NEW VISIT]: https://fr-fr.facebook.com/ - 200\n",
            "[NEW VISIT]: https://zh-cn.facebook.com/ - 200\n",
            "[NEW VISIT]: https://ar-ar.facebook.com/ - 200\n",
            "[NEW VISIT]: https://pt-br.facebook.com/ - 200\n",
            "[NEW VISIT]: https://it-it.facebook.com/ - 200\n",
            "[NEW VISIT]: https://ko-kr.facebook.com/ - 200\n",
            "[NEW VISIT]: https://de-de.facebook.com/ - 200\n",
            "[NEW VISIT]: https://hi-in.facebook.com/ - 200\n",
            "[NEW VISIT]: https://ja-jp.facebook.com/ - 200\n",
            "[NEW VISIT]: https://messenger.com/ - 301\n",
            "[NEW VISIT]: https://www.facebook.com/watch/ - 200\n",
            "[URI HAS BEEN VISITED]: https://www.facebook.com/recover/initiate?lwv=110&ars=royal_blue_bar\n",
            "[URI HAS BEEN VISITED]: https://www.facebook.com/recover/initiate?lwv=110&ars=royal_blue_bar\n",
            "[NEW VISIT]: https://l.facebook.com/l.php?u=https%3A%2F%2Fwww.python.org%2F&h=AT2HN3Q8WDozwWjhL4GZnbKFX-jWQgwLOM0n83CKxrUV9sZSQmxb6er9Q0aaUrqvQ2CK8xmsSVWbR-WZdF8t83P8W-b3xZ5yVMllg8jiacXCB0z2kvf43h9YolMWySTiO6XUm0AHanbEgZYz - 200\n",
            "[NEW VISIT]: https://l.facebook.com/l.php?u=https%3A%2F%2Fwww.python.org%2F&h=AT0VmHHBad6ROCCRWnjS4khwdUjLlk9tUSc2UgdJx9Q6wPgciQudFN66JAJmMF-PmNseQIX7si9xxAKImzcKGylDmNmfg6CDvD81wQPZPwQbYhXcWm6bKOC3pW5WcKzYWpCHwNpq2QSkqnFPLiw - 200\n",
            "[NEW VISIT]: https://www.facebook.com/pythonlang/likes?ref=page_internal - 200\n",
            "[URI HAS BEEN VISITED]: https://www.facebook.com/\n",
            "[URI HAS BEEN VISITED]: https://www.facebook.com/recover/initiate?lwv=110&ars=royal_blue_bar\n",
            "[URI HAS BEEN VISITED]: https://www.facebook.com/recover/initiate?lwv=110&ars=royal_blue_bar\n",
            "[NEW VISIT]: https://www.facebook.com/pythonlang/ - 200\n",
            "[NEW VISIT]: https://www.facebook.com/privacy/explanation - 200\n",
            "[NEW VISIT]: https://www.facebook.com/policies?ref=pf - 200\n",
            "[NEW VISIT]: https://www.facebook.com/ad_campaign/landing.php?placement=pf_rhc&campaign_id=242449722530626&extra_1=auto - 302\n",
            "[NEW VISIT]: https://www.facebook.com/help/568137493302217 - 200\n",
            "[NEW VISIT]: https://www.facebook.com/help/cookies?ref_type=sitefooter - 302\n",
            "[NEW VISIT]: https://www.facebook.com/photo.php?fbid=10214014505133868&set=pppbo.7899581788&type=3&eid=ARBdtf3nEliiuMyAhwSOJK6BebFiMYvZEG1HmD0Fcz6c-ew0g0TaP-pGxk-AVN1tnMaBprpYR1Ii19Rw - 200\n",
            "[NEW VISIT]: https://www.facebook.com/pythonlang/likes - 200\n",
            "[URI HAS BEEN VISITED]: https://www.facebook.com/\n",
            "[URI HAS BEEN VISITED]: https://www.facebook.com/recover/initiate?lwv=110&ars=royal_blue_bar\n",
            "[URI HAS BEEN VISITED]: https://www.facebook.com/recover/initiate?lwv=110&ars=royal_blue_bar\n",
            "[URI HAS BEEN VISITED]: https://www.facebook.com/pythonlang/\n",
            "[URI HAS BEEN VISITED]: https://www.facebook.com/privacy/explanation\n",
            "[URI HAS BEEN VISITED]: https://www.facebook.com/policies?ref=pf\n",
            "[URI HAS BEEN VISITED]: https://www.facebook.com/ad_campaign/landing.php?placement=pf_rhc&campaign_id=242449722530626&extra_1=auto\n",
            "[URI HAS BEEN VISITED]: https://www.facebook.com/help/568137493302217\n",
            "[URI HAS BEEN VISITED]: https://www.facebook.com/help/cookies?ref_type=sitefooter\n",
            "[NEW VISIT]: https://www.facebook.com/photo.php?fbid=10214014505133868&set=pppbo.7899581788&type=3&eid=ARDovSPI9KvGAzNIFc4a7MuFHoa1zZysXbBoKbRTzwK9CY4wcAI77FlEMkflz1mgPwOHA5_4PzUo2Duv - 200\n",
            "[NEW VISIT]: https://www.facebook.com/pythonprogramming.net/?ref=py_c - 200\n",
            "[URI HAS BEEN VISITED]: https://www.facebook.com/\n",
            "[URI HAS BEEN VISITED]: https://www.facebook.com/recover/initiate?lwv=110&ars=royal_blue_bar\n",
            "[URI HAS BEEN VISITED]: https://www.facebook.com/recover/initiate?lwv=110&ars=royal_blue_bar\n",
            "[NEW VISIT]: https://l.facebook.com/l.php?u=https%3A%2F%2Fpythonprogramming.net%2F&h=AT1yyldhg5hZ8slHcJ27ndSAYq3476D_kOfAo2Z-flqJwp1XG2lU6S1BclNuO1hu26cRZ5VyWSQsY8eakSORBruD7ENyKuynomSZgrz0N-0dBwfUyczHbG0CkPkMWoad6EnrzbBoxZH6itJ9 - 200\n",
            "[NEW VISIT]: https://l.facebook.com/l.php?u=https%3A%2F%2Fpythonprogramming.net%2F&h=AT0MYdGuZyO0FfdVTasvw4U8qGs77NOQsMwEcPjy9w168K8ryRxeU841PFHHADtVf61bjqQg64lgVDx8aqhz3SC8F2KsweB89DOH_t_jDSmXrWD5IjrJuQN_r3wbJrWXTTmeaS7rxFTrGhuqtqg - 200\n",
            "[NEW VISIT]: https://www.facebook.com/pythonprogramming.net/likes?ref=page_internal - 200\n",
            "[NEW VISIT]: https://www.facebook.com/pythonprogramming.net/likes - 200\n",
            "[NEW VISIT]: https://www.facebook.com/DataCamp-726282547396228/?ref=py_c - 200\n",
            "[URI HAS BEEN VISITED]: https://www.facebook.com/DataCamp-726282547396228/?ref=py_c\n",
            "[NEW VISIT]: https://www.facebook.com/jgprogramming/?ref=py_c - 200\n",
            "[URI HAS BEEN VISITED]: https://www.facebook.com/jgprogramming/?ref=py_c\n",
            "[NEW VISIT]: https://www.facebook.com/linkedinlearning/?ref=py_c - 200\n",
            "[URI HAS BEEN VISITED]: https://www.facebook.com/linkedinlearning/?ref=py_c\n",
            "[NEW VISIT]: https://www.facebook.com/freepythontips/?ref=py_c - 200\n",
            "[URI HAS BEEN VISITED]: https://www.facebook.com/pythonprogramming.net/?ref=py_c\n",
            "[NEW VISIT]: https://www.facebook.com/PythonDevelopers/?ref=py_c - 200\n",
            "[URI HAS BEEN VISITED]: https://www.facebook.com/\n",
            "[URI HAS BEEN VISITED]: https://www.facebook.com/recover/initiate?lwv=110&ars=royal_blue_bar\n",
            "[URI HAS BEEN VISITED]: https://www.facebook.com/recover/initiate?lwv=110&ars=royal_blue_bar\n",
            "[NEW VISIT]: https://www.facebook.com/PythonDevelopers/likes?ref=page_internal - 200\n",
            "[NEW VISIT]: https://www.facebook.com/PythonDevelopers/likes - 200\n",
            "[URI HAS BEEN VISITED]: https://www.facebook.com/freepythontips/?ref=py_c\n",
            "[URI HAS BEEN VISITED]: https://www.facebook.com/freepythontips/?ref=py_c\n",
            "[URI HAS BEEN VISITED]: https://www.facebook.com/pythonprogramming.net/?ref=py_c\n",
            "[URI HAS BEEN VISITED]: https://www.facebook.com/pythonprogramming.net/?ref=py_c\n",
            "[NEW VISIT]: https://www.facebook.com/ubuntulinux/?ref=py_c - 200\n",
            "[URI HAS BEEN VISITED]: https://www.facebook.com/ubuntulinux/?ref=py_c\n",
            "[URI HAS BEEN VISITED]: https://www.facebook.com/PythonDevelopers/?ref=py_c\n",
            "[URI HAS BEEN VISITED]: https://www.facebook.com/freepythontips/?ref=py_c\n",
            "[URI HAS BEEN VISITED]: https://www.facebook.com/freepythontips/?ref=py_c\n",
            "[NEW VISIT]: https://www.facebook.com/LearnRealPython/?ref=py_c - 200\n",
            "[URI HAS BEEN VISITED]: https://www.facebook.com/\n",
            "[URI HAS BEEN VISITED]: https://www.facebook.com/recover/initiate?lwv=110&ars=royal_blue_bar\n",
            "[URI HAS BEEN VISITED]: https://www.facebook.com/recover/initiate?lwv=110&ars=royal_blue_bar\n",
            "[NEW VISIT]: https://l.facebook.com/l.php?u=https%3A%2F%2Frealpython.com%2F&h=AT3gpDfPF79_E7I9xz45Fq1i4luRuKUfghY6pICNVROd3X_M1jzOCIvNWcZCNn2W_wU0Csukwdxig1CA43mCYTLfY3QgmcgF_ZQd2fkYZXSEs_HjXE1dltME45xMq5XEFRxcfy1XtuRMNN8k - 200\n",
            "[NEW VISIT]: https://l.facebook.com/l.php?u=https%3A%2F%2Frealpython.com%2F&h=AT3bS6mTO6V_icvXLAUbR2NWRi6OqjDI-vm9RNRnfyzo7ofNcWIaAa2VJbn5H4dSwLaA4pxN8Zi1lEJDWIhkqgJ5FMf635X0xZW-rI5WdbzcLGNCFQ3NPaS102qLb_UxZBGn9gYXtfhUvxzkK6s - 200\n",
            "[NEW VISIT]: https://www.facebook.com/LearnRealPython/likes?ref=page_internal - 200\n",
            "[NEW VISIT]: https://www.facebook.com/LearnRealPython/likes - 200\n",
            "[URI HAS BEEN VISITED]: https://www.facebook.com/freepythontips/?ref=py_c\n",
            "[URI HAS BEEN VISITED]: https://www.facebook.com/freepythontips/?ref=py_c\n",
            "[NEW VISIT]: https://twitter.com/ThePSF - 200\n",
            "[NEW VISIT]: http://brochure.getpython.info/ - 301\n",
            "[NEW VISIT]: https://brochure.getpython.info/ - 200\n",
            "[NEW VISIT]: https://brochure.getpython.info/#content - 200\n",
            "[NEW VISIT]: https://brochure.getpython.info/#portal-globalnav - 200\n",
            "[NEW VISIT]: https://brochure.getpython.info/login - 200\n",
            "[NEW VISIT]: https://brochure.getpython.info/@@search - 200\n",
            "[NEW VISIT]: https://brochure.getpython.info - 200\n",
            "[URI HAS BEEN VISITED]: https://brochure.getpython.info\n",
            "[NEW VISIT]: https://brochure.getpython.info/learn-more - 200\n",
            "[NEW VISIT]: https://brochure.getpython.info/news - 200\n",
            "[NEW VISIT]: https://brochure.getpython.info/stories - 200\n",
            "[URI HAS BEEN VISITED]: https://brochure.getpython.info\n",
            "[NEW VISIT]: https://brochure.getpython.info/author/acsr - 200\n",
            "[NEW VISIT]: https://brochure.getpython.info/media/releases/python-brochure-current - 302\n",
            "[URI HAS BEEN VISITED]: https://brochure.getpython.info/media/releases/python-brochure-current\n"
          ],
          "name": "stdout"
        },
        {
          "output_type": "stream",
          "text": [
            "/usr/local/lib/python3.6/dist-packages/bs4/__init__.py:336: UserWarning: \"http://brochure.getpython.info/media/releases/psf-python-brochure-vol.-i-final-download.pdf/view\" looks like a URL. Beautiful Soup is not an HTTP client. You should probably use an HTTP client like requests to get the document behind the URL, and feed that document to Beautiful Soup.\n",
            "  ' that document to Beautiful Soup.' % decoded_markup\n"
          ],
          "name": "stderr"
        },
        {
          "output_type": "stream",
          "text": [
            "[NEW VISIT]: https://brochure.getpython.info/media/releases/prerelases/psf-python-brochure-vol-1-final-content-preview - 200\n"
          ],
          "name": "stdout"
        }
      ]
    },
    {
      "cell_type": "code",
      "metadata": {
        "id": "Qw_UcDeBCvqR",
        "colab_type": "code",
        "colab": {}
      },
      "source": [
        "df.sort_values(by='score', ascending=False).iloc[:10]"
      ],
      "execution_count": 0,
      "outputs": []
    },
    {
      "cell_type": "code",
      "metadata": {
        "id": "EKBt0w-LOe7B",
        "colab_type": "code",
        "colab": {}
      },
      "source": [
        "df.sort_values(by='score')"
      ],
      "execution_count": 0,
      "outputs": []
    }
  ]
}